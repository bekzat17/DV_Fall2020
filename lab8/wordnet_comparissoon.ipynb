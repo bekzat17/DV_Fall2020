{
 "cells": [
  {
   "cell_type": "code",
   "execution_count": 4,
   "metadata": {},
   "outputs": [],
   "source": [
    "from wiki_ru_wordnet import WikiWordnet"
   ]
  },
  {
   "cell_type": "code",
   "execution_count": 5,
   "metadata": {},
   "outputs": [],
   "source": [
    "wikiwordnet = WikiWordnet()"
   ]
  },
  {
   "cell_type": "code",
   "execution_count": 6,
   "metadata": {},
   "outputs": [
    {
     "name": "stdout",
     "output_type": "stream",
     "text": [
      "{'пёсий', 'псовый', 'собачий'}\n",
      "{'домашнее животное'}\n",
      "{'домашнее животное'}\n",
      "{'волк', 'бирюк'}\n"
     ]
    }
   ],
   "source": [
    "synsets = wikiwordnet.get_synsets('собака')\n",
    "synset1 = synsets[0]\n",
    "for hypernym in wikiwordnet.get_hypernyms(synset1):\n",
    "    print({w.lemma() for w in hypernym.get_words()})"
   ]
  },
  {
   "cell_type": "code",
   "execution_count": 7,
   "metadata": {},
   "outputs": [
    {
     "name": "stdout",
     "output_type": "stream",
     "text": [
      "[<wiki_ru_wordnet.synset.Synset object at 0x000001CB4CC459C8>, <wiki_ru_wordnet.synset.Synset object at 0x000001CB4C4956C8>]\n",
      "{'плохой', 'скверный', 'некачественный', 'дурной', 'нехороший'}\n"
     ]
    }
   ],
   "source": [
    "synsets = wikiwordnet.get_synsets('собачий')\n",
    "print(synsets)\n",
    "synset1 = synsets[0]\n",
    "for hypernym in wikiwordnet.get_hypernyms(synset1):\n",
    "    print({w.lemma() for w in hypernym.get_words()})"
   ]
  },
  {
   "cell_type": "code",
   "execution_count": 8,
   "metadata": {},
   "outputs": [
    {
     "name": "stdout",
     "output_type": "stream",
     "text": [
      "[<wiki_ru_wordnet.synset.Synset object at 0x000001CB4C4956C8>]\n",
      "{'звериный'}\n"
     ]
    }
   ],
   "source": [
    "synsets = wikiwordnet.get_synsets('псовый')\n",
    "print(synsets)\n",
    "synset1 = synsets[0]\n",
    "for hypernym in wikiwordnet.get_hypernyms(synset1):\n",
    "    print({w.lemma() for w in hypernym.get_words()})"
   ]
  },
  {
   "cell_type": "code",
   "execution_count": 9,
   "metadata": {},
   "outputs": [
    {
     "name": "stdout",
     "output_type": "stream",
     "text": [
      "[<wiki_ru_wordnet.synset.Synset object at 0x000001CB4C490E88>, <wiki_ru_wordnet.synset.Synset object at 0x000001CB4C490EC8>]\n"
     ]
    }
   ],
   "source": [
    "synsets = wikiwordnet.get_synsets('звериный')\n",
    "print(synsets)\n",
    "synset1 = synsets[0]\n",
    "for hypernym in wikiwordnet.get_hypernyms(synset1):\n",
    "    print({w.lemma() for w in hypernym.get_words()})"
   ]
  },
  {
   "cell_type": "code",
   "execution_count": 10,
   "metadata": {},
   "outputs": [
    {
     "name": "stdout",
     "output_type": "stream",
     "text": [
      "[<wiki_ru_wordnet.synset.Synset object at 0x000001CB4C875B88>, <wiki_ru_wordnet.synset.Synset object at 0x000001CB4C875BC8>]\n",
      "{'животное'}\n"
     ]
    }
   ],
   "source": [
    "synsets = wikiwordnet.get_synsets('домашнее животное')\n",
    "print(synsets)\n",
    "synset1 = synsets[0]\n",
    "for hypernym in wikiwordnet.get_hypernyms(synset1):\n",
    "    print({w.lemma() for w in hypernym.get_words()})"
   ]
  },
  {
   "cell_type": "code",
   "execution_count": 11,
   "metadata": {},
   "outputs": [
    {
     "name": "stdout",
     "output_type": "stream",
     "text": [
      "[<wiki_ru_wordnet.synset.Synset object at 0x000001CB4C3A4F88>, <wiki_ru_wordnet.synset.Synset object at 0x000001CB4C3A4FC8>]\n",
      "{'создание', 'существо'}\n",
      "{'животное', 'тварь', 'животина', 'скот'}\n"
     ]
    }
   ],
   "source": [
    "synsets = wikiwordnet.get_synsets('животное')\n",
    "print(synsets)\n",
    "synset1 = synsets[0]\n",
    "for hypernym in wikiwordnet.get_hypernyms(synset1):\n",
    "    print({w.lemma() for w in hypernym.get_words()})"
   ]
  },
  {
   "cell_type": "code",
   "execution_count": 13,
   "metadata": {},
   "outputs": [
    {
     "name": "stdout",
     "output_type": "stream",
     "text": [
      "[<wiki_ru_wordnet.synset.Synset object at 0x000001CB4C3A4FC8>]\n"
     ]
    }
   ],
   "source": [
    "synsets = wikiwordnet.get_synsets('животина')\n",
    "print(synsets)\n",
    "synset1 = synsets[0]\n",
    "for hypernym in wikiwordnet.get_hypernyms(synset1):\n",
    "    print({w.lemma() for w in hypernym.get_words()})"
   ]
  },
  {
   "cell_type": "code",
   "execution_count": 14,
   "metadata": {},
   "outputs": [
    {
     "name": "stdout",
     "output_type": "stream",
     "text": [
      "[<wiki_ru_wordnet.synset.Synset object at 0x000001CB4C398688>, <wiki_ru_wordnet.synset.Synset object at 0x000001CB4CB30A48>]\n",
      "{'хищник'}\n",
      "{'зверь', 'млекопитающее'}\n"
     ]
    }
   ],
   "source": [
    "synsets = wikiwordnet.get_synsets('бирюк')\n",
    "print(synsets)\n",
    "synset1 = synsets[0]\n",
    "for hypernym in wikiwordnet.get_hypernyms(synset1):\n",
    "    print({w.lemma() for w in hypernym.get_words()})"
   ]
  },
  {
   "cell_type": "code",
   "execution_count": 15,
   "metadata": {},
   "outputs": [
    {
     "name": "stdout",
     "output_type": "stream",
     "text": [
      "[<wiki_ru_wordnet.synset.Synset object at 0x000001CB4C3E7688>, <wiki_ru_wordnet.synset.Synset object at 0x000001CB4C3E76C8>, <wiki_ru_wordnet.synset.Synset object at 0x000001CB4C3E7708>]\n",
      "{'позвоночное'}\n"
     ]
    }
   ],
   "source": [
    "synsets = wikiwordnet.get_synsets('зверь')\n",
    "print(synsets)\n",
    "synset1 = synsets[0]\n",
    "for hypernym in wikiwordnet.get_hypernyms(synset1):\n",
    "    print({w.lemma() for w in hypernym.get_words()})"
   ]
  },
  {
   "cell_type": "code",
   "execution_count": 16,
   "metadata": {},
   "outputs": [
    {
     "name": "stdout",
     "output_type": "stream",
     "text": [
      "[<wiki_ru_wordnet.synset.Synset object at 0x000001CB4C4290C8>]\n",
      "{'животное'}\n",
      "{'живот'}\n"
     ]
    }
   ],
   "source": [
    "synsets = wikiwordnet.get_synsets('позвоночное')\n",
    "print(synsets)\n",
    "synset1 = synsets[0]\n",
    "for hypernym in wikiwordnet.get_hypernyms(synset1):\n",
    "    print({w.lemma() for w in hypernym.get_words()})"
   ]
  },
  {
   "cell_type": "code",
   "execution_count": null,
   "metadata": {},
   "outputs": [],
   "source": []
  }
 ],
 "metadata": {
  "kernelspec": {
   "display_name": "Python 3",
   "language": "python",
   "name": "python3"
  },
  "language_info": {
   "codemirror_mode": {
    "name": "ipython",
    "version": 3
   },
   "file_extension": ".py",
   "mimetype": "text/x-python",
   "name": "python",
   "nbconvert_exporter": "python",
   "pygments_lexer": "ipython3",
   "version": "3.7.4"
  }
 },
 "nbformat": 4,
 "nbformat_minor": 2
}
